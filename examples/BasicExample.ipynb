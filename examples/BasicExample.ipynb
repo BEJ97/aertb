{
 "cells": [
  {
   "cell_type": "code",
   "execution_count": 1,
   "metadata": {},
   "outputs": [],
   "source": [
    "from aertb import FileLoader"
   ]
  },
  {
   "cell_type": "code",
   "execution_count": 3,
   "metadata": {},
   "outputs": [
    {
     "data": {
      "text/plain": [
       "rec.array([(21, 15, 0.0000e+00, 0), ( 4,  4, 7.0000e-06, 1),\n",
       "           (20, 15, 8.0000e-05, 0), ..., ( 1, 19, 9.9885e-02, 1),\n",
       "           (27,  9, 9.9928e-02, 0), ( 6, 15, 9.9935e-02, 1)],\n",
       "          dtype=[('x', 'u1'), ('y', 'u1'), ('ts', '<f4'), ('p', 'i1')])"
      ]
     },
     "execution_count": 3,
     "metadata": {},
     "output_type": "execute_result"
    }
   ],
   "source": [
    "datLoader = FileLoader('dat')\n",
    "datLoader.load_events('../example_data/dat/cars/obj_004414_td.dat')"
   ]
  },
  {
   "cell_type": "code",
   "execution_count": 4,
   "metadata": {},
   "outputs": [
    {
     "data": {
      "text/plain": [
       "rec.array([( 9, 30, 0.00052 , 1), (10, 23, 0.002129, 0),\n",
       "           (17, 11, 0.005486, 0), ..., (28, 14, 0.301282, 1),\n",
       "           (21, 31, 0.303123, 1), (23, 17, 0.303458, 1)],\n",
       "          dtype=[('x', 'u1'), ('y', 'u1'), ('ts', '<f4'), ('p', 'i1')])"
      ]
     },
     "execution_count": 4,
     "metadata": {},
     "output_type": "execute_result"
    }
   ],
   "source": [
    "FileLoader('bin').load_events('../example_data/bin/one/03263.bin')"
   ]
  },
  {
   "cell_type": "code",
   "execution_count": null,
   "metadata": {},
   "outputs": [],
   "source": []
  }
 ],
 "metadata": {
  "kernelspec": {
   "display_name": "Python 3",
   "language": "python",
   "name": "python3"
  },
  "language_info": {
   "codemirror_mode": {
    "name": "ipython",
    "version": 3
   },
   "file_extension": ".py",
   "mimetype": "text/x-python",
   "name": "python",
   "nbconvert_exporter": "python",
   "pygments_lexer": "ipython3",
   "version": "3.7.7"
  }
 },
 "nbformat": 4,
 "nbformat_minor": 4
}
